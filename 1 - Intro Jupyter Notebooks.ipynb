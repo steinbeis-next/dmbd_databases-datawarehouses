{
 "cells": [
  {
   "cell_type": "markdown",
   "metadata": {},
   "source": [
    "<div>\n",
    "    <img style=\"float:right; width:210px\" src=\"images/snext-logo.png\"/>\n",
    "    <div style=\"float:left;\"><h1>Relational Databases and Data Warehousing</h1></div>\n",
    "</div>"
   ]
  },
  {
   "cell_type": "markdown",
   "metadata": {},
   "source": [
    "---\n",
    "# Notebook 1: Intro to Notebooks\n",
    "In this notebook we want to familiarize ourselves with jupyter notebooks.\n",
    "\n",
    "## Contents\n",
    "\n",
    "[1. Cells](#chapter1)  \n",
    "[2. Markdown](#chapter2)  \n",
    "[3. File Browser](#chapter3)  \n",
    "---"
   ]
  },
  {
   "cell_type": "markdown",
   "metadata": {
    "tags": []
   },
   "source": [
    "## 1. Cells <a id=\"chapter1\"/>\n",
    "\n",
    "Notebooks are divided into cells that have the type \"Code\" or \"Markdown\" (documentation). Please try these things to familiarize yourself with the functionality:\n",
    "- A blue bar marks the active (selected cell). To select a cell, use the up/down cursor keys or click left of cell (but not the blue vertical bar)\n",
    "- To collapse/expand cells, click the blue bar on the left hand side.\n",
    "- Use cursor keys up/down to select different cells.\n",
    "- Doubleclick the text of some cells in this notebook and view them in \"edit mode\". Press _shift-enter_ to \"execute the cell\" and return to the formatted view.\n",
    "- Try the following keyboard shortcuts.\n",
    "  * Shift-Enter: Execute active cell\n",
    "  * a: Insert cell *a*bove active cell\n",
    "  * b: Insert cell *b*elow active cell\n",
    "  * dd: delete active cell\n",
    "  * m: Set type of cell to \"markdown\" (text / documentation)\n",
    "  * y: Set type of cell to \"code\""
   ]
  },
  {
   "cell_type": "code",
   "execution_count": null,
   "metadata": {},
   "outputs": [],
   "source": []
  },
  {
   "cell_type": "markdown",
   "metadata": {},
   "source": [
    "## 2. Markdown\n",
    "\n",
    "The formatting of texts is done via _Markdown_ ([Cheat Sheet at GitHub](https://github.com/adam-p/markdown-here/wiki/Markdown-Cheatsheet)). To use it you simply add some control characters to your text, i.e. to mark some words as a headline, to indent text, format a table... \n",
    "\n",
    "Some helpful tags are:\n",
    "\n",
    "Markdown | Meaning\n",
    ":---------|:---------------------------\n",
    "\\# Text  | Header 1st order\n",
    "\\## Text | Header 2nd order\n",
    "\\*\\*Text\\*\\* | Bold \n",
    "\\*Text\\* | Italic     "
   ]
  },
  {
   "cell_type": "markdown",
   "metadata": {
    "tags": []
   },
   "source": [
    "---\n",
    "## <span style=\"color:#FF5D02;\">Assignment: Create a markdown cell</span>\n",
    "1. Insert a cell below this cell (select this cell by clicking left of the cell, so that the blue bar shows, press \"b\")\n",
    "2. Change the cell type to \"Markdown\" (keyboard shortcut \"m\" or use the menu in the top bar of the window)\n",
    "3. Add some text containing a headline, some bold and italic words\n",
    "4. Execute the cell (shift-Enter) and check the result"
   ]
  },
  {
   "cell_type": "markdown",
   "metadata": {},
   "source": []
  },
  {
   "cell_type": "markdown",
   "metadata": {},
   "source": [
    "## 3. File Browser <a id=\"chapter3\"/>\n",
    "Now click the folder icon on the left hand side of the window to show the files available in your workspace.\n",
    "\n",
    "To continue with the tasks, open the next notebook."
   ]
  }
 ],
 "metadata": {
  "kernelspec": {
   "display_name": "Python 3 (ipykernel)",
   "language": "python",
   "name": "python3"
  },
  "language_info": {
   "codemirror_mode": {
    "name": "ipython",
    "version": 3
   },
   "file_extension": ".py",
   "mimetype": "text/x-python",
   "name": "python",
   "nbconvert_exporter": "python",
   "pygments_lexer": "ipython3",
   "version": "3.11.5"
  }
 },
 "nbformat": 4,
 "nbformat_minor": 4
}
