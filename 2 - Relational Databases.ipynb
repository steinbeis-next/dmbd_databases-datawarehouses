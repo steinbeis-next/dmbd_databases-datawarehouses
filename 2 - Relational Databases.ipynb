{
 "cells": [
  {
   "cell_type": "markdown",
   "metadata": {},
   "source": [
    "<div>\n",
    "    <img style=\"float:right; width:210px\" src=\"images/snext-logo.png\"/>\n",
    "    <div style=\"float:left;\"><h1>Relational Databases and Data Warehousing</h1></div>\n",
    "</div>"
   ]
  },
  {
   "cell_type": "markdown",
   "metadata": {},
   "source": [
    "---\n",
    "# Notebook 2: Intro to relational databases\n",
    "In this notebook you learn to turn a data model into an actual database using the SQlite database.\n",
    "\n",
    "> SQLite [...] implements a small, fast, self-contained, high-reliability, full-featured, SQL database engine. SQLite is the most used database engine in the world. SQLite is built into all mobile phones and most computers and comes bundled inside countless other applications that people use every day.\n",
    "\n",
    "Requirements:\n",
    "- You should be familiar with the concept of relational databases in general.\n",
    "- You should be familiar with the syntax of the structured query language (SQL).\n",
    "---"
   ]
  },
  {
   "cell_type": "markdown",
   "metadata": {},
   "source": [
    "First we have to tell our Jupyter environment that we want to work with sql in the following cells."
   ]
  },
  {
   "cell_type": "code",
   "execution_count": null,
   "metadata": {},
   "outputs": [],
   "source": [
    "%load_ext sql"
   ]
  },
  {
   "cell_type": "markdown",
   "metadata": {},
   "source": [
    "Now...\n",
    "- each cell that starts with ``%%sql`` will be completely considered as SQL code.\n",
    "- in each cell that starts with ``%sql`` the first line will be considered as one-line SQL statement.\n"
   ]
  },
  {
   "cell_type": "markdown",
   "metadata": {},
   "source": [
    "### Open database to create schema"
   ]
  },
  {
   "cell_type": "code",
   "execution_count": null,
   "metadata": {},
   "outputs": [],
   "source": [
    "%sql sqlite:///data/my-database.db"
   ]
  },
  {
   "cell_type": "markdown",
   "metadata": {},
   "source": [
    "---\n",
    "## <span style=\"color:#FF5D02;\">Assignment: Create the tables from your physical data model</span>\n",
    "Use the ``CREATE TABLE`` command. If you are not satisfied with a single table or want to change the table you might delete an existing table again with ``DROP TABLE`` or delete the database file in the file browser and re-run above cell to recreate the database.\n",
    "\n",
    "Please include:\n",
    "- a text comment before each command that states what you are going to do, e.g. \"create table for customer data\"\n",
    "- appropriate field types (INT, TEXT, ...)\n",
    "- primary keys\n",
    "- foreign keys and referenced columns"
   ]
  },
  {
   "cell_type": "markdown",
   "metadata": {},
   "source": [
    "Hints"
   ]
  },
  {
   "cell_type": "code",
   "execution_count": null,
   "metadata": {
    "jupyter": {
     "source_hidden": true
    },
    "tags": []
   },
   "outputs": [],
   "source": [
    "%%sql \n",
    "\n",
    "-- this could be your customer table\n",
    "\n",
    "DROP TABLE IF EXISTS customers;\n",
    "CREATE TABLE customers (\n",
    "    id INTEGER PRIMARY KEY AUTOINCREMENT,\n",
    "    first_name TEXT NOT NULL,\n",
    "    last_name TEXT NOT NULL,\n",
    "    email TEXT,\n",
    "    phone TEXT,\n",
    "    address TEXT\n",
    ");"
   ]
  },
  {
   "cell_type": "code",
   "execution_count": null,
   "metadata": {},
   "outputs": [],
   "source": [
    "%%sql\n",
    "\n",
    "-- create all tables from physical schema\n",
    "\n",
    "CREATE TABLE ..."
   ]
  },
  {
   "cell_type": "markdown",
   "metadata": {},
   "source": [
    "---\n",
    "## <span style=\"color:#FF5D02;\">Assignment: Populate your data model with mock data</span>\n",
    "Mock data is a type of simulated data used for testing and training purposes. It is generated from a set of rules that mimic the characteristics of real data. Mock data is useful because it can provide a realistic environment for testing different strategies and methods without the risk of damaging or altering real data. It also allows students to practice problem-solving and other analytical techniques on a safe, virtual platform.\n",
    "\n",
    "You'll find mock data for your e-commerce data structure in the following tables:\n",
    "- mock_customers\n",
    "- mock_products\n",
    "- mock_categories"
   ]
  },
  {
   "cell_type": "markdown",
   "metadata": {},
   "source": [
    "To check, let's output a list of all tables currently existing in the database. You can ignore sqlite_sequence, it's just there for technical reasons."
   ]
  },
  {
   "cell_type": "code",
   "execution_count": null,
   "metadata": {},
   "outputs": [],
   "source": [
    "%sql SELECT name FROM sqlite_master WHERE type='table';"
   ]
  },
  {
   "cell_type": "markdown",
   "metadata": {},
   "source": [
    "#### Step 1: Explore the mock data structure and compare with your tables\n",
    "Prepare queries for the mockdata to output a table matching your data structure, especially the number and order of columns should match."
   ]
  },
  {
   "cell_type": "code",
   "execution_count": null,
   "metadata": {},
   "outputs": [],
   "source": [
    "%sql SELECT * FROM mock_customers LIMIT 1"
   ]
  },
  {
   "cell_type": "code",
   "execution_count": null,
   "metadata": {},
   "outputs": [],
   "source": [
    "%sql SELECT * FROM mock_categories LIMIT 1"
   ]
  },
  {
   "cell_type": "code",
   "execution_count": null,
   "metadata": {},
   "outputs": [],
   "source": [
    "%sql SELECT * FROM mock_products LIMIT 1"
   ]
  },
  {
   "cell_type": "code",
   "execution_count": null,
   "metadata": {},
   "outputs": [],
   "source": [
    "%sql SELECT * FROM mock_orders LIMIT 1"
   ]
  },
  {
   "cell_type": "markdown",
   "metadata": {},
   "source": [
    "#### Step 2: Populate your tables\n",
    "Copy rows from the mock_* tables to your data structure. Use the INSERT INTO statement.\n",
    "\n",
    "Documentation can be found [here](https://www.sqlite.org/lang_insert.html)."
   ]
  },
  {
   "cell_type": "code",
   "execution_count": null,
   "metadata": {},
   "outputs": [],
   "source": [
    "%%sql\n",
    "\n",
    "INSERT INTO customers (<list of columns of your table>)\n",
    "SELECT <list of columns of mock-table> FROM mock_..."
   ]
  },
  {
   "cell_type": "markdown",
   "metadata": {},
   "source": [
    "#### Step 3: Check the data in your tables\n",
    "Check if mockdata was successfully imported into your schema. Check with JOINs if IDs match."
   ]
  },
  {
   "cell_type": "code",
   "execution_count": null,
   "metadata": {},
   "outputs": [],
   "source": [
    "%%sql \n",
    "\n",
    "SELECT * \n",
    "FROM ...\n",
    "INNER JOIN ...  ON ...\n",
    "...\n",
    "LIMIT 10;"
   ]
  },
  {
   "cell_type": "markdown",
   "metadata": {},
   "source": [
    "---\n",
    "## <span style=\"color:#FF5D02;\">Assignment: Create a view for an order log</span>\n",
    "Use the ``CREATE VIEW`` syntax to create a view named ``order_log``, that holds a list of all recent orders with relevant customer, product and category data to that you could display this list in your warehouse and all necessary info to package the goods is included.\n",
    "\n",
    "Be sure to include the order ID, the customer address, product category, description and price!"
   ]
  },
  {
   "cell_type": "code",
   "execution_count": null,
   "metadata": {},
   "outputs": [],
   "source": [
    "%%sql \n",
    "\n",
    "DROP VIEW IF EXISTS order_log;\n",
    "\n",
    "CREATE VIEW order_log AS\n",
    "    SELECT ...\n",
    "    "
   ]
  },
  {
   "cell_type": "markdown",
   "metadata": {},
   "source": [
    "Now let's check your view by selecting some data. Try limiting the output to ~10 records by appending ``LIMIT 10`` to your query, so the your notebook remains well readable."
   ]
  },
  {
   "cell_type": "code",
   "execution_count": null,
   "metadata": {},
   "outputs": [],
   "source": [
    "%%sql \n",
    "\n",
    "select * from order_log limit 10"
   ]
  },
  {
   "cell_type": "markdown",
   "metadata": {},
   "source": [
    "---\n",
    "## <span style=\"color:#FF5D02;\">Assignment: Create statistics from newly created view<span>\n",
    "Use the ``SELECT`` statement to create a statistic about some transactions:\n",
    "- list the number and average price of orders\n",
    "- for each product category \n",
    "- for New Jersey residents.\n",
    "\n",
    "Set the column headings appropriately and round the average price to two decimals using the ``ROUND`` function. Experiment or look up the specification of the ``ROUND`` function online.\n",
    "\n",
    "> Hint: You can get filter for New Jersey residents by matching the address string with \" NJ \"."
   ]
  },
  {
   "cell_type": "code",
   "execution_count": null,
   "metadata": {},
   "outputs": [],
   "source": [
    "%%sql\n"
   ]
  },
  {
   "cell_type": "markdown",
   "metadata": {},
   "source": [
    "> ## NOTE\n",
    ">If you want to continue your work later, \n",
    ">- please download this notebook with the completed exercises and \n",
    ">- download the my-database.db file to your computer.\n",
    ">\n",
    ">Do this by right clicking the files in the file browser on the left hand side and selecting ``download``."
   ]
  }
 ],
 "metadata": {
  "kernelspec": {
   "display_name": "Python 3 (ipykernel)",
   "language": "python",
   "name": "python3"
  },
  "language_info": {
   "codemirror_mode": {
    "name": "ipython",
    "version": 3
   },
   "file_extension": ".py",
   "mimetype": "text/x-python",
   "name": "python",
   "nbconvert_exporter": "python",
   "pygments_lexer": "ipython3",
   "version": "3.11.5"
  }
 },
 "nbformat": 4,
 "nbformat_minor": 4
}
