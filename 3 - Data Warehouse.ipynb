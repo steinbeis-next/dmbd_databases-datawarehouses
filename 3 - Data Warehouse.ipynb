{
 "cells": [
  {
   "cell_type": "markdown",
   "metadata": {},
   "source": [
    "<div>\n",
    "    <img style=\"float:right; width:210px\" src=\"images/snext-logo.png\"/>\n",
    "    <div style=\"float:left;\"><h1>Relational Databases and Data Warehousing</h1></div>\n",
    "</div>"
   ]
  },
  {
   "cell_type": "markdown",
   "metadata": {},
   "source": [
    "---\n",
    "# Notebook 3: Intro to Data Warehousing\n",
    "In this notebook you learn to turn an existing transactional database into a simple Data Warehouse.\n",
    "\n",
    "Requirements:\n",
    "- You have completed the previous exercise on relational databases\n",
    "- You have a database file ready that is structured according to your data model and contains mock data for customers, products and transactions.\n",
    "- You are familiar with the key principles of Data Warehousing.\n",
    "- You are familiar with the concepts of fact and dimension tables in star schemas.\n",
    "- You have already created a star schema model and are ready to implement it in an actual database.\n",
    "---"
   ]
  },
  {
   "cell_type": "markdown",
   "metadata": {},
   "source": [
    "Let's load our existing database."
   ]
  },
  {
   "cell_type": "code",
   "execution_count": 1,
   "metadata": {},
   "outputs": [],
   "source": [
    "%load_ext sql\n",
    "%sql sqlite:///data/my-database.db"
   ]
  },
  {
   "cell_type": "markdown",
   "metadata": {
    "tags": []
   },
   "source": [
    "---\n",
    "## <span style=\"color:#FF5D02;\">Assigment: Create star schema</span>\n",
    "To simplify the exercise, we continue working with the existing database. Your task is to add the tables for the dimensions first, then add the required fact tables for the transactional data.\n",
    "\n",
    "Name the dimensions ``dim_<dimension-name>``, e.g. dim_customer, and the fact tables ``fact_<fact-name>``, e.g. fact_orders.\n",
    "\n",
    "> __NOTE:__ Before you start you should create a backup copy of the database with the results from Notebook 2 in case you somehow damage the data while experimenting."
   ]
  },
  {
   "cell_type": "markdown",
   "metadata": {},
   "source": [
    "### Create dimension tables\n",
    "Let's start with a first dimension that probably every Data Warehouse contains - time. We pick one possible design out of many here, we define weekly granularity as the lowest one:"
   ]
  },
  {
   "cell_type": "code",
   "execution_count": null,
   "metadata": {},
   "outputs": [],
   "source": [
    "%%sql\n",
    "\n",
    "-- create time dimension\n",
    "\n",
    "DROP TABLE IF EXISTS dim_time;\n",
    "CREATE TABLE dim_time (\n",
    "    id INTEGER PRIMARY KEY AUTOINCREMENT,\n",
    "    week INTEGER NOT NULL,\n",
    "    month INTEGER NOT NULL,\n",
    "    year INTEGER NOT NULL\n",
    ");"
   ]
  },
  {
   "cell_type": "markdown",
   "metadata": {},
   "source": [
    "Please add tables for the dimensions from your star schema model. Be sure to include the state (i.e. New York, California, ...) in which a customer lives as an attribute of customers."
   ]
  },
  {
   "cell_type": "code",
   "execution_count": null,
   "metadata": {},
   "outputs": [],
   "source": [
    "%%sql\n",
    "\n",
    "-- create customers dimension\n",
    "DROP TABLE IF EXISTS dim_customers;\n",
    "CREATE TABLE dim_customers (\n",
    "    ...\n",
    ");\n",
    "\n",
    "-- create ... dimension\n",
    "..."
   ]
  },
  {
   "cell_type": "markdown",
   "metadata": {},
   "source": [
    "### Create fact tables\n",
    "Please add the fact tables from your star schema model."
   ]
  },
  {
   "cell_type": "code",
   "execution_count": null,
   "metadata": {},
   "outputs": [],
   "source": [
    "%%sql\n",
    "\n",
    "-- create orders fact table\n",
    "DROP TABLE IF EXISTS fact_orders;\n",
    "CREATE TABLE fact_orders (\n",
    "    ...\n",
    ");\n",
    "\n",
    "...\n"
   ]
  },
  {
   "cell_type": "markdown",
   "metadata": {
    "tags": []
   },
   "source": [
    "---\n",
    "## <span style=\"color:#FF5D02;\">Assigment: Populate Data Warehouse</span>\n",
    "To simulate an ETL process, please use the ``INSERT INTO table SELECT ...`` statement to copy the transactional data:\n",
    "- Use your newly created tables from Notebook #2 as data source (or the mock_* tables if you started this notebook from a fresh environment). \n",
    "- Copy the data to your newly created star schema tables dim_* and fact_*."
   ]
  },
  {
   "cell_type": "markdown",
   "metadata": {},
   "source": [
    "### Load dimension data"
   ]
  },
  {
   "cell_type": "markdown",
   "metadata": {},
   "source": [
    "Let's start with populating the time dimension. To to this we have to create a list of all points in time that are relevant to the data warehouse: weeks, months and years:\n",
    "- the ``strftime`` function extracts which week, month, year it is per date from the order table\n",
    "- the ``SELECT DISTICT`` eliminates duplicates and thus prevents the same date from being added multiple times.\n",
    "\n",
    "Please adjust the statement so it fits your data structure."
   ]
  },
  {
   "cell_type": "code",
   "execution_count": null,
   "metadata": {},
   "outputs": [],
   "source": [
    "%%sql \n",
    "\n",
    "-- first: let's try that...\n",
    "\n",
    "SELECT DISTINCT strftime(\"%W\", order_date) as no_of_week, strftime(\"%m\", order_date) as month, strftime(\"%Y\", order_date) as year\n",
    "FROM orders ORDER BY order_date;"
   ]
  },
  {
   "cell_type": "code",
   "execution_count": null,
   "metadata": {},
   "outputs": [],
   "source": [
    "%%sql \n",
    "\n",
    "-- now ingest that data into the time dimension table\n",
    "\n",
    "INSERT INTO dim_time (week, month, year) \n",
    "    SELECT DISTINCT strftime(\"%W\", order_date), strftime(\"%m\", order_date), strftime(\"%Y\", order_date) \n",
    "    FROM orders ORDER BY order_date;"
   ]
  },
  {
   "cell_type": "markdown",
   "metadata": {},
   "source": [
    "Now please ETL the dimensional data for all other dimensions.\n",
    "\n",
    "> Hint: To populate the ``state`` field of customers you can use the expression ``substr(address, -8, 2)`` which extracts two characters at the position 8 chars before string end, where the state information sits in the mock dataset."
   ]
  },
  {
   "cell_type": "code",
   "execution_count": null,
   "metadata": {},
   "outputs": [],
   "source": [
    "%%sql \n",
    "\n",
    "INSERT INTO dim_customers (...) SELECT ... ;\n",
    "..."
   ]
  },
  {
   "cell_type": "markdown",
   "metadata": {},
   "source": [
    "### Load fact data\n",
    "Now please ETL the fact data from your transactional data tables (hint: orders, reviews). Be sure to let each row in the fact table refer to all relevant dimensions be referring to a row in the dimensions tables by id.\n",
    "\n",
    "Example:\n",
    "\n",
    "- dim_customer has:\n",
    "  ``id 42: John Doe``\n",
    "  \n",
    "- dim_time has:\n",
    "  ``id 1: week 2, month 1, year 2022``\n",
    "  \n",
    "- fact_orders refers to these to dimensions and adds the attributes of that fact:\n",
    "  ``cust_id: 42, time_id: 1, ..., quantitiy: 10``\n",
    "\n",
    "If you feel unsure at this point, recheck with the literature specified in the online course.\n",
    "\n",
    ">Hint: If you load facts that are associated with a point in time, you have match that date with the relevant points in time, our data warehouse is aware of (-> dim_time table dimension):\n",
    "> - In the source table, you want to load data from, decompose the date into week, month, year (using ``strftime``) - this allows you to match the date to the time dimension.\n",
    "> - Join the source table with dim_time on week, month, year to get the time id for each row in your source table.\n",
    "> - Load the resulting data table into the fact table."
   ]
  },
  {
   "cell_type": "code",
   "execution_count": null,
   "metadata": {},
   "outputs": [],
   "source": [
    "%%sql \n",
    "\n",
    "-- load facts to fact_...\n",
    "\n",
    "INSERT INTO fact_... (time_id, <dimension ids and fact-table columns>)\n",
    "SELECT dim_time.id, <relevant fact columns from source table>\n",
    "FROM <transactional table> source\n",
    "JOIN dim_time t ON strftime(\"%Y\", source.date_column) = dim_time.year \n",
    "    AND strftime(\"%m\", source.date_column) = dim_time.month \n",
    "    AND strftime(\"%W\", source.date_column) = dim_time.week;\n",
    "JOIN dim_... ON ... -- potential other dimension\n",
    "JOIN dim_... ON ... -- potential other dimension\n"
   ]
  },
  {
   "cell_type": "markdown",
   "metadata": {},
   "source": [
    "Now you have created a tiny data warehouse. To query the dwh, you usually select from a fact table and connect all relevant dimensions to your query with ``JOIN``s. You can use this query as a template:"
   ]
  },
  {
   "cell_type": "code",
   "execution_count": null,
   "metadata": {},
   "outputs": [],
   "source": [
    "%%sql\n",
    "\n",
    "SELECT * FROM fact_... \n",
    "JOIN dim_customers c ON fact_...cust_id = c.id\n",
    "JOIN dim_..."
   ]
  },
  {
   "cell_type": "markdown",
   "metadata": {
    "tags": []
   },
   "source": [
    "---\n",
    "## <span style=\"color:#FF5D02;\">Assigment: Query Data Warehouse</span>\n",
    "Create to queries to the Data Warehouse to check if everything works as expected. "
   ]
  },
  {
   "cell_type": "markdown",
   "metadata": {},
   "source": [
    "### 1. Generate a statistic of # of purchases and average price for New York Citizens by dimension product category\n",
    "First, we want to check, if the data is imported correctly. So we recreate tge same statistic from the data warehouse that you created from the order_log view at the end of Notebook #2. \n",
    "\n",
    "> Hint: Use the dimensions products and customers."
   ]
  },
  {
   "cell_type": "code",
   "execution_count": null,
   "metadata": {},
   "outputs": [],
   "source": [
    "%%sql\n"
   ]
  },
  {
   "cell_type": "markdown",
   "metadata": {},
   "source": [
    "### 2. Generate a statistic of average reviews over states for category \"Accessories\"\n",
    "With your result, try to answer this question: Is there a state that rates Accessories significantly worse than others? If so, which one?"
   ]
  },
  {
   "cell_type": "code",
   "execution_count": null,
   "metadata": {},
   "outputs": [],
   "source": [
    "%%sql\n",
    "\n"
   ]
  },
  {
   "cell_type": "markdown",
   "metadata": {},
   "source": [
    "If you want to continue working on Notebook #4 later in another session, please download your current state of my-database.db and upload it later when you come back."
   ]
  }
 ],
 "metadata": {
  "kernelspec": {
   "display_name": "Python 3 (ipykernel)",
   "language": "python",
   "name": "python3"
  },
  "language_info": {
   "codemirror_mode": {
    "name": "ipython",
    "version": 3
   },
   "file_extension": ".py",
   "mimetype": "text/x-python",
   "name": "python",
   "nbconvert_exporter": "python",
   "pygments_lexer": "ipython3",
   "version": "3.11.5"
  }
 },
 "nbformat": 4,
 "nbformat_minor": 4
}
