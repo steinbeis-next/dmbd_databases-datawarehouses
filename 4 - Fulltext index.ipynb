{
 "cells": [
  {
   "cell_type": "markdown",
   "metadata": {},
   "source": [
    "<div>\n",
    "    <img style=\"float:right; width:210px\" src=\"images/snext-logo.png\"/>\n",
    "    <div style=\"float:left;\"><h1>Relational Databases and Data Warehousing</h1></div>\n",
    "</div>"
   ]
  },
  {
   "cell_type": "markdown",
   "metadata": {},
   "source": [
    "---\n",
    "# Notebook 4: Full text index\n",
    "In this notebook you learn to add a fulltext index to the existing SQlite database. We'll have a brief look under the hood to understand the difference to a regular table.\n",
    "\n",
    "Requirements:\n",
    "- You have completed SQL tutorial\n",
    "- You have completed Notebook #2\n",
    "---"
   ]
  },
  {
   "cell_type": "markdown",
   "metadata": {},
   "source": [
    "Let's load our existing database."
   ]
  },
  {
   "cell_type": "code",
   "execution_count": null,
   "metadata": {},
   "outputs": [],
   "source": [
    "%load_ext sql\n",
    "%sql sqlite:///my-database.db"
   ]
  },
  {
   "cell_type": "markdown",
   "metadata": {
    "tags": []
   },
   "source": [
    "---\n",
    "## <span style=\"color:#FF5D02;\">Assigment: Create a fts5 fulltext index table for reviews and do some queries</span>\n",
    "Create a fulltext index and import the reviews from table ``mock_reviews``. If unsure how to proceed, refer to the tutorial at https://www.sqlitetutorial.net/sqlite-full-text-search/."
   ]
  },
  {
   "cell_type": "code",
   "execution_count": null,
   "metadata": {},
   "outputs": [],
   "source": [
    "%%sql\n",
    "\n",
    "DROP TABLE IF EXISTS fts_reviews;\n",
    "CREATE VIRTUAL TABLE fts_reviews ...;\n",
    "INSERT INTO ...;"
   ]
  },
  {
   "cell_type": "markdown",
   "metadata": {},
   "source": [
    "Now search for some terms like beautiful, problem, etc. using the full text index."
   ]
  },
  {
   "cell_type": "code",
   "execution_count": null,
   "metadata": {},
   "outputs": [],
   "source": [
    "%sql SELECT * ..."
   ]
  },
  {
   "cell_type": "markdown",
   "metadata": {},
   "source": [
    "## Lets' look under the hood\n",
    "We can access the index directly by creating another virtual table. It contains all tokens and a link to where they appear in the original data like a glossar for a big book."
   ]
  },
  {
   "cell_type": "code",
   "execution_count": null,
   "metadata": {},
   "outputs": [],
   "source": [
    "%%sql \n",
    "\n",
    "DROP TABLE IF EXISTS fts_tokens;\n",
    "CREATE VIRTUAL TABLE fts_tokens USING fts5vocab(fts_reviews,instance);"
   ]
  },
  {
   "cell_type": "markdown",
   "metadata": {},
   "source": [
    "Let's analyze this! How would the fulltext index search for the word 'beautiful' in the column 'content'? It would look it up in its index. We can do this manually:"
   ]
  },
  {
   "cell_type": "code",
   "execution_count": null,
   "metadata": {},
   "outputs": [],
   "source": [
    "%sql select * from fts_tokens WHERE term=\"beautiful\" and col=\"content\" order by doc;"
   ]
  },
  {
   "cell_type": "markdown",
   "metadata": {},
   "source": [
    "Ok, the doc column gives us the id of the document, like the column 'id' as primary key before. Let's check the first three IDs, if 'beautiful' is actually included..."
   ]
  },
  {
   "cell_type": "code",
   "execution_count": null,
   "metadata": {},
   "outputs": [],
   "source": [
    "%sql select rowid, content from fts_reviews where rowid in (26,39,43);"
   ]
  },
  {
   "cell_type": "markdown",
   "metadata": {},
   "source": [
    "---\n",
    "## <span style=\"color:#FF5D02;\">Assigment: Tagcloud</span>\n",
    "Besides making search for keywords way more flexible an faster, we can quickly generate statistics about tokens. In the simplest form that would be a tagcloud.\n",
    "\n",
    "Problem is, that fts5 does not include stop-words, so all trivial words like 'I', 'the', 'and' etc. are also included. As a work-around we ignore all words shorter than 5 characters for our tagcloud."
   ]
  },
  {
   "cell_type": "code",
   "execution_count": null,
   "metadata": {},
   "outputs": [],
   "source": [
    "%%sql \n",
    "\n"
   ]
  }
 ],
 "metadata": {
  "kernelspec": {
   "display_name": "Python 3 (ipykernel)",
   "language": "python",
   "name": "python3"
  },
  "language_info": {
   "codemirror_mode": {
    "name": "ipython",
    "version": 3
   },
   "file_extension": ".py",
   "mimetype": "text/x-python",
   "name": "python",
   "nbconvert_exporter": "python",
   "pygments_lexer": "ipython3",
   "version": "3.11.5"
  }
 },
 "nbformat": 4,
 "nbformat_minor": 4
}
