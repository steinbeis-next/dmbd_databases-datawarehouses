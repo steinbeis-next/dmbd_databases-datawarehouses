{
 "cells": [
  {
   "cell_type": "markdown",
   "metadata": {
    "slideshow": {
     "slide_type": "slide"
    }
   },
   "source": [
    "# Choosing between online and a local environment\n",
    "\n",
    "There are many options to work with Jupyter Notebooks and Python. The key choice is, if you want to use an online service (no need to install software, easy to reset to original state, but some a limited or slow in free version) or if you prefer to install the software locally on your computer (full control, deeper understanding of inner workings, no cost or performance limits other that computing power of your machine).\n",
    "\n",
    "You can use one of the many online offerings such as:\n",
    "- [Google Colab](https://colab.research.google.com) - service from Google, has a free tier, but requires a Google account\n",
    "- [MyBinder](mybinder.org) - an online service for running notebooks that are available from a public code repository like github\n",
    "- [Deepnote](deepnote.com) - offering that focuses on its collaboration featureset\n",
    "- [Kaggle Kernels](kaggle.com) - the popular community hosting machine learning competitions is owned by Google and provides resources to directly run notebooks.\n",
    "- [CoCalc](cocalc.com) - opensource solution service offering by a company calls SageMath, look and feel from the original Jupyter Notebooks\n",
    "- [JupyterLite](https://jupyter.org/try-jupyter/lab) - JupyterLite is an online notebook that runs entirely in the web browser und thus can be a little slow and is limited since many packages are simply not available\n",
    "There are many more, but these are - to my knowledge - the most popular ones.\n",
    "\n",
    "Now, should you instead opt to install the environment on your local computer, this guide is for you.\n",
    "\n",
    "<i>Credits: Substantial parts of the following guidelines are from Joaquin Vanschoren's \"Prerequisits\" chapter in his [ml-course](https://ml-course.github.io/master/labs/Lab%200%20-%20Prerequisites.html) from github.</i>"
   ]
  },
  {
   "cell_type": "markdown",
   "metadata": {
    "slideshow": {
     "slide_type": "slide"
    }
   },
   "source": [
    "# Setting up a local environment"
   ]
  },
  {
   "cell_type": "markdown",
   "metadata": {},
   "source": [
    "## Python\n",
    "You first need to set up a Python environment (if you do not have done so already). The easiest way to do this is by installing [Miniconda](https://docs.conda.io/en/latest/miniconda.html), which will install Python as well as a set of commonly used packages. We will be using Python 3, so be sure to install the right version. Always install a 64-bit installer (if your machine supports it), and we recommend using Python 3.10 or later.\n",
    "\n",
    "If you are completely new to Python, we recommend reading the [Python Data Science Handbook](https://github.com/jakevdp/PythonDataScienceHandbook) or taking an introductory online course, such as the [Definite Guide to Python](https://www.programiz.com/python-programming), the [Whirlwind Tour of Python](https://github.com/jakevdp/WhirlwindTourOfPython), or [this Python Course](https://www.python-course.eu/). If you like a step-by-step approach, try the [DataCamp Intro to Python for Data Science](https://www.datacamp.com/courses/intro-to-python-for-data-science).\n",
    "\n",
    "To practice your skills, try some [Hackerrank challenges](https://www.hackerrank.com/domains/python). "
   ]
  },
  {
   "cell_type": "markdown",
   "metadata": {},
   "source": [
    "### OS specific notes\n",
    "\n",
    "**Windows users**: If you are new to Anaconda, read the [starting guide](https://docs.anaconda.com/anaconda/user-guide/getting-started/). You'll probably use the Anaconda Prompt to run any commands or to start Jupyter Lab.\n",
    "\n",
    "**Mac users**: You'll probably use your terminal to run any commands or to start Jupyter Lab. Make sure that you have Command Line tools installed. If not, run ``xcode-select --install``. You won't need a full XCode installation. \n",
    "\n",
    "#### Apple silicon (Macbooks / Mac mini with M1/M2 chips)\n",
    "For those who have a laptop with Apple Silicon, [this guide may be useful](https://medium.com/mlearning-ai/install-tensorflow-on-mac-m1-m2-with-gpu-support-c404c6cfb580) to install a TensorFlow version that will effectively use the GPUs. However, installing the latest version of tensorflow-macos doesn't always work reliably and you may have to downgrade to an older version. Also for most of the course content, you don't need the full processing power, so you can probably skip this for now.\n",
    "\n",
    "This procedure has been known to work using Miniconda3 and Python 3.10 on M1 chips:\n",
    "```\n",
    "cd to your miniconda directory\n",
    "conda install -c apple tensorflow-deps\n",
    "conda install -c conda-forge cvxpy\n",
    "pip install \"tensorflow-macos==2.10\"\n",
    "pip install \"tensorflow-metal==0.6\"\n",
    "```\n",
    "\n",
    "The conda install of `cvxpy` is to resolve issues with libraries with poor M1 support (e.g. `fancyimpute`)  "
   ]
  },
  {
   "cell_type": "markdown",
   "metadata": {
    "slideshow": {
     "slide_type": "slide"
    }
   },
   "source": [
    "### Virtual environments\n",
    "\n",
    "If you already have a custom Python environment set up, possibly using a different Python version, we highly recommend to set up a virtual environment to avoid interference with other projects and classes. This is not strictly needed if you use a fresh Anaconda install, since that will automatically create a new environment on installation.\n",
    "\n",
    "#### Using conda\n",
    "To create a new conda environment called 'mycourse' (or whatever you like), run\n",
    "```\n",
    "conda create -n mycourse python=3.10\n",
    "```\n",
    "You activate the environment with `conda activate mlcourse` and deacticate it with `conda deactivate`.\n",
    "\n",
    "#### Using virtualenv\n",
    "To can also use [venv](http://docs.python-guide.org/en/latest/dev/virtualenvs/) if you prefer:\n",
    "```\n",
    "pip install virtualenv\n",
    "virtualenv mycourse\n",
    "```\n",
    "Activate the environment with `source mycourse/bin/activate` or `mycourse\\Scripts\\activate` on Windows. To deactivate the virtual environment, type `deactivate` or close the terminal window."
   ]
  },
  {
   "cell_type": "markdown",
   "metadata": {
    "slideshow": {
     "slide_type": "slide"
    }
   },
   "source": [
    "### Installing TensorFlow\n",
    "\n",
    "To install *TensorFlow 2* (if you haven't already), follow [these instructions](https://www.tensorflow.org/install/) for your OS (Windows, Mac, Ubuntu). For Apple M1 machines, see the procedure above under 'OS specific notes'. While installation with `conda` is possible, they recommend to install with `pip`, even with an Anaconda setup. We recommend using TensorFlow 2.7 or later.\n",
    "\n"
   ]
  },
  {
   "cell_type": "markdown",
   "metadata": {
    "jp-MarkdownHeadingCollapsed": true,
    "slideshow": {
     "slide_type": "slide"
    },
    "tags": []
   },
   "source": [
    "## Download course materials from GitHub\n",
    "The course materials are available on GitHub, so that you can easily `pull` (download) the latest updates. You can either [install git](https://git-scm.com/book/en/v1/Getting-Started-Installing-Git) and then 'clone' the repository from the command line (you can also use a [GUI](https://desktop.github.com/)) or navigate to github and download a full repository as .zip file or just single files that you want to work on.\n",
    "    \n",
    "For more details on using git, see the [GitHub 10-minute tutorial](https://guides.github.com/activities/hello-world/\n",
    ") and [Git for Ages 4 and up](https://www.youtube.com/watch?v=1ffBJ4sVUb4). We'll use git extensively in the course (e.g., to submit assignments)."
   ]
  },
  {
   "cell_type": "markdown",
   "metadata": {
    "slideshow": {
     "slide_type": "slide"
    }
   },
   "source": [
    "## Installing required packages\n",
    "Next, you'll need to install several packages that your course will be using extensively. The packages are usually listed in a file called `requirements.txt` and can be installed using pip (the Python Package index).  \n",
    "Run the following from the folder where you cloned (or downloaded) the course, or adjust the path to the `requirements.txt` file:\n",
    "\n",
    "    pip install --upgrade pip\n",
    "    pip install -U -r requirements.txt\n",
    "\n",
    "Note: the -U option updates all packages, should you have older versions already installed."
   ]
  },
  {
   "cell_type": "markdown",
   "metadata": {
    "slideshow": {
     "slide_type": "slide"
    }
   },
   "source": [
    "## Running the Jupyter notebooks\n",
    "As coding environment, we'll be using Jupyter notebooks. They interleave documentation (in markdown) with executable Python code, and they run in your browser. That means that you can easily edit and re-run all the code in a course. If you are new to notebooks, [take this quick tutorial](https://try.jupyter.org/), or [this more detailed one](http://nbviewer.jupyter.org/github/jupyter/notebook/tree/master/docs/source/examples/Notebook/). Optionally, for a more in-depth coverage, [try the DataCamp tutorial](https://www.datacamp.com/community/tutorials/tutorial-jupyter-notebook#gs.wlHChdo). \n",
    "\n",
    "Run jupyter lab from the folder where you have downloaded (or cloned) the course materials, using the Python environment you created above.\n",
    "\n",
    "    jupyter lab\n",
    "    \n",
    "A browser window should open with all course materials. Open one of the chapters and check if you can execute all code by clicking Cell > Run all.  You can shut down the notebook by typing CTRL-C in your terminal."
   ]
  },
  {
   "cell_type": "markdown",
   "metadata": {
    "slideshow": {
     "slide_type": "slide"
    }
   },
   "source": [
    "### An alternative: Google Colab\n",
    "[Google Colab](https://colab.research.google.com/) allows you to run notebooks in your browser without any local installation. It also provides (limited) GPU resources. It is a useful alternative in case you encounter issues with your local installation or don't have it available, or to easily use GPUs.\n",
    "\n",
    "The [course overview page](https://ml-course.github.io/master/) has buttons to launch all materials in Colab (or Binder), or you can upload the notebooks to Colab yourself.\n",
    "\n"
   ]
  }
 ],
 "metadata": {
  "anaconda-cloud": {},
  "celltoolbar": "Slideshow",
  "hide_input": false,
  "kernelspec": {
   "display_name": "Python 3 (ipykernel)",
   "language": "python",
   "name": "python3"
  },
  "language_info": {
   "codemirror_mode": {
    "name": "ipython",
    "version": 3
   },
   "file_extension": ".py",
   "mimetype": "text/x-python",
   "name": "python",
   "nbconvert_exporter": "python",
   "pygments_lexer": "ipython3",
   "version": "3.10.9"
  }
 },
 "nbformat": 4,
 "nbformat_minor": 4
}
