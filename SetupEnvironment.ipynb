{
 "cells": [
  {
   "cell_type": "markdown",
   "metadata": {},
   "source": [
    "<div>\n",
    "    <img style=\"float:right; width:210px\" src=\"images/snext-logo.png\"/>\n",
    "    <div style=\"float:left;\"><h1>Online or local environment</h1></div>\n",
    "</div>"
   ]
  },
  {
   "cell_type": "markdown",
   "metadata": {
    "slideshow": {
     "slide_type": "slide"
    }
   },
   "source": [
    "There are many options to work with Jupyter Notebooks and Python. \n",
    "\n",
    "> For SNEXT courses, it is recommended to install python and jupyter lab on your local computer to have full control, deeper understanding of inner workings, no cost or performance limits other that computing power of your machine.\n",
    "\n",
    "As alternative, you can also use an online service (no need to install software, easy to reset to original state, but somehow limited or slow in free versions). Below you'll find a list of suitable offerings."
   ]
  },
  {
   "cell_type": "markdown",
   "metadata": {
    "slideshow": {
     "slide_type": "slide"
    }
   },
   "source": [
    "# Option 1: Setting up a local environment"
   ]
  },
  {
   "cell_type": "markdown",
   "metadata": {},
   "source": [
    "## 1. Install Python / Miniconda\n",
    "You first need to set up a Python environment (if you do not have done so already). The easiest way to do this is by installing [Miniconda](https://docs.conda.io/en/latest/miniconda.html), which will install Python as well as a set of commonly used packages. \n",
    "Not: Mac users probably want to use the .pkg installer, that has a graphical user interface and does not require console commands.\n",
    "\n",
    "## 2. Install Jupyter Lab\n",
    "After you installed miniconda, you need to install Jupyter Lab. To do so, open a console (Terminal on MacOS, cmd.exe or Powershell on Windows) and type\n",
    "\n",
    "```\n",
    "conda install jupyter\n",
    "```\n",
    "\n",
    "After completing the installation you can now run jupyter from the command line by typing:\n",
    "\n",
    "```\n",
    "jupyter lab\n",
    "```\n",
    "\n",
    "For advanced exercises and projects (that go beyond just 5-10 packages), we recommend to create a new environment for each project."
   ]
  },
  {
   "cell_type": "markdown",
   "metadata": {
    "slideshow": {
     "slide_type": "slide"
    }
   },
   "source": [
    "## 3. Setup Virtual environments\n",
    "\n",
    "If you already have a custom Python environment set up, possibly using a different Python version, we highly recommend to set up a virtual environment to avoid interference with other projects and classes. This is not strictly needed if you use a fresh Anaconda install, since that will automatically create a new environment on installation.\n",
    "\n",
    "#### Using conda (recommended)\n",
    "For more context, see [documentation here](https://conda.io/projects/conda/en/latest/user-guide/tasks/manage-environments.html).\n",
    "\n",
    "To create a new conda environment called 'mycourse' (or whatever you like), run\n",
    "```\n",
    "conda create -n mycourse python=3.10\n",
    "```\n",
    "You activate the environment with `conda activate mycourse` and deactivate it with `conda deactivate`.\n",
    "\n",
    "#### Alternative: Using virtualenv\n",
    "To can also use [venv](http://docs.python-guide.org/en/latest/dev/virtualenvs/) if you prefer:\n",
    "```\n",
    "python -m venv mycourse\n",
    "```\n",
    "Activate the environment with `source mycourse/bin/activate` (Mac/Linux) or `mycourse\\Scripts\\activate` on Windows. To deactivate the virtual environment, type `deactivate` or close the terminal window."
   ]
  },
  {
   "cell_type": "markdown",
   "metadata": {
    "jp-MarkdownHeadingCollapsed": true,
    "slideshow": {
     "slide_type": "slide"
    },
    "tags": []
   },
   "source": [
    "## 4. Download course materials from GitHub\n",
    "The course materials are available on GitHub, so that you can easily `pull` (download) the latest updates. You can either [install git](https://git-scm.com/book/en/v1/Getting-Started-Installing-Git) and then 'clone' the repository from the command line (you can also use a [GUI](https://desktop.github.com/)) or navigate to github and download a full repository as .zip file or just single files that you want to work on. You find the \"download as ZIP\" option when navigating to the github repository page and clicking the dropdown arrow on the green \"<> Code\" button.\n",
    "    \n",
    "For more details on using git, see the [GitHub 10-minute tutorial](https://guides.github.com/activities/hello-world/\n",
    ") and [Git for Ages 4 and up](https://www.youtube.com/watch?v=1ffBJ4sVUb4)."
   ]
  },
  {
   "cell_type": "markdown",
   "metadata": {
    "slideshow": {
     "slide_type": "slide"
    }
   },
   "source": [
    "## 5. Installing required packages\n",
    "Next, you'll need to install several packages that your course will be using extensively. The packages are usually listed in a file called `requirements.txt` and can be installed using pip (the Python Package index).  \n",
    "\n",
    "If you created a virtual environment, activate it first.\n",
    "Next run the following from the folder where you cloned (or downloaded) the course, or adjust the path to the `requirements.txt` file:\n",
    "```\n",
    "conda install --file requirements.txt\n",
    "```\n"
   ]
  },
  {
   "cell_type": "markdown",
   "metadata": {
    "slideshow": {
     "slide_type": "slide"
    }
   },
   "source": [
    "## Running the Jupyter notebooks\n",
    "As coding environment, we'll be using Jupyter notebooks. They interleave documentation (in markdown) with executable Python code, and they run in your browser. That means that you can easily edit and re-run all the code in a course. If you are new to notebooks or need a quick refresher, [take this quick tutorial](https://try.jupyter.org/), or [this more detailed one](http://nbviewer.jupyter.org/github/jupyter/notebook/tree/master/docs/source/examples/Notebook/). Optionally, for a more in-depth coverage, [try the DataCamp tutorial](https://www.datacamp.com/community/tutorials/tutorial-jupyter-notebook#gs.wlHChdo). \n",
    "\n",
    "Run jupyter lab from the folder where you have downloaded (or cloned) the course materials, using the Python environment you created above.\n",
    "\n",
    "```\n",
    "jupyter lab\n",
    "```\n",
    "    \n",
    "A browser window should open with all course materials. Open one of the chapters and check if you can execute all code by clicking Cell > Run all.  You can shut down the notebook by typing CTRL-C in your terminal."
   ]
  },
  {
   "cell_type": "markdown",
   "metadata": {
    "slideshow": {
     "slide_type": "slide"
    }
   },
   "source": [
    "# Option 2: Running Jupyter Lab in the cloud\n",
    "You can use one of the many online offerings such as:\n",
    "\n",
    "- [Google Colab](https://colab.research.google.com) - service from Google, has a free tier, but requires a Google account\n",
    "- [MyBinder](mybinder.org) - an online service for running notebooks that are available from a public code repository like github\n",
    "- [Deepnote](deepnote.com) - offering that focuses on its collaboration featureset\n",
    "- [Kaggle Kernels](kaggle.com) - the popular community hosting machine learning competitions is owned by Google and provides resources to directly run notebooks.\n",
    "- [CoCalc](cocalc.com) - opensource solution service offering by a company calls SageMath, look and feel from the original Jupyter Notebooks\n",
    "- [JupyterLite](https://jupyter.org/try-jupyter/lab) - JupyterLite is an online notebook that runs entirely in the web browser und thus can be a little slow and is limited since many packages are simply not available\n",
    "There are many more, but these are - to my knowledge - the most popular ones.\n",
    "\n",
    "<i>Credits: Substantial parts of the following guidelines are from Joaquin Vanschoren's \"Prerequisits\" chapter in his [ml-course](https://ml-course.github.io/master/labs/Lab%200%20-%20Prerequisites.html) from github.</i>"
   ]
  }
 ],
 "metadata": {
  "anaconda-cloud": {},
  "celltoolbar": "Slideshow",
  "hide_input": false,
  "kernelspec": {
   "display_name": "Python 3 (ipykernel)",
   "language": "python",
   "name": "python3"
  },
  "language_info": {
   "codemirror_mode": {
    "name": "ipython",
    "version": 3
   },
   "file_extension": ".py",
   "mimetype": "text/x-python",
   "name": "python",
   "nbconvert_exporter": "python",
   "pygments_lexer": "ipython3",
   "version": "3.11.6"
  }
 },
 "nbformat": 4,
 "nbformat_minor": 4
}
